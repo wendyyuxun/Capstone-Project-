{
 "cells": [
  {
   "cell_type": "markdown",
   "metadata": {
    "collapsed": true
   },
   "source": [
    "<h1>Which Neighborhood Should You Choose When You Move to Toronto?</h1>"
   ]
  },
  {
   "cell_type": "markdown",
   "metadata": {},
   "source": [
    "<h2>Introduction</h2>"
   ]
  },
  {
   "cell_type": "markdown",
   "metadata": {},
   "source": [
    "<p>Toronto is the capital city of the Canadian province of Ontario, which is an international center of business, finance, and cultures. It is home to the Toronto Stock Exchange and the headquarters of the five largest Canadian banks. Toronto is also the center of music, television production, cultural festivals and events. As one of the most popular tourism destination, visitors and residents will always have a variety of things to do on their list, from the famous CN Tower featuring cosmopolitian city life to the impresive Niagara Falls within an accessible distance.</p>\n",
    "\n",
    "<p>Toronto is ranked as the 16th in the 2018 Mercer Quality of Living survey. The rannking is based on a combination of several factors, such as economic strength, cultural interaction, research and development. However, from my personal experience, the list may not be an accurate description of the city. Large city has many neighborhoods and not all neighborhoods live up to the score of the survey. For example, New York is ranked as 4th Best City to live in according to Global Finance Magazine but Vinegar Hill is definitely not a safe neighborhood to stay.</p>\n",
    "\n",
    "<p>Therefore, this capstone project aims to provide readers with a more detailed comparason among different neighborhoods in Toronto based on various perspectives: crime rate, restaurants, rental price and Covid 19 cases. It is important to note that the Covid 19 situation is included in the analysis as this rare pandemic in some ways can reflect the productivity of the medical systems and the efficiency of the local governments.</p>"
   ]
  },
  {
   "cell_type": "markdown",
   "metadata": {},
   "source": [
    "<h2>Data Acquisition</h2>"
   ]
  },
  {
   "cell_type": "markdown",
   "metadata": {},
   "source": [
    "<p>The match between post code and different neighborhoods are scraped down from <a href=\"https://en.wikipedia.org/wiki/List_of_postal_codes_of_Canada:_M\">Wikipedia</a>. In addition to the wikipedia table, the exact geographical location of each neighborhoods can be found in <a href=\"http://cocl.us/Geospatial_data\">Geospacial Data</a>.</p>\n",
    "\n",
    "<p>The information of Food and Beverage can found on FourSquare, which is a location data platform. FourSquare is a masstive location data network that offers venue details in 30+ attribute fields and 900+ venue categories in 190+ countris and 50+ categories.</p>\n",
    "\n",
    "<p>The details of crime rate, rental price and Covid 19 cases are downloaded from Kaggle which is a online community for data scientist and machine learning practitioners to find and publish data sets. Toronto Crime Rate Per Neighborhood can be obtained <a href=\"https://www.kaggle.com/alincijov/toronto-crime-rate-per-neighbourhood\">here</a>. Toronto Apartment Rental Price is avaible <a href=\"https://www.kaggle.com/rajacsp/toronto-apartment-price\">here</a>. Lastly, <a href=\"https://www.kaggle.com/divyansh22/toronto-covid19-cases\">this</a> is where the Toronto Covid 19 Cases is from.</p>"
   ]
  },
  {
   "cell_type": "code",
   "execution_count": null,
   "metadata": {},
   "outputs": [],
   "source": []
  }
 ],
 "metadata": {
  "kernelspec": {
   "display_name": "Python 3.7",
   "language": "python",
   "name": "python3"
  },
  "language_info": {
   "codemirror_mode": {
    "name": "ipython",
    "version": 3
   },
   "file_extension": ".py",
   "mimetype": "text/x-python",
   "name": "python",
   "nbconvert_exporter": "python",
   "pygments_lexer": "ipython3",
   "version": "3.7.9"
  }
 },
 "nbformat": 4,
 "nbformat_minor": 1
}
